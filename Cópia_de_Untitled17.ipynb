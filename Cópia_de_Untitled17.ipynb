{
  "nbformat": 4,
  "nbformat_minor": 0,
  "metadata": {
    "colab": {
      "provenance": [],
      "authorship_tag": "ABX9TyMAIkqlLchXMFM9nOM2x+aQ",
      "include_colab_link": true
    },
    "kernelspec": {
      "name": "python3",
      "display_name": "Python 3"
    },
    "language_info": {
      "name": "python"
    }
  },
  "cells": [
    {
      "cell_type": "markdown",
      "metadata": {
        "id": "view-in-github",
        "colab_type": "text"
      },
      "source": [
        "<a href=\"https://colab.research.google.com/github/DavPess/Condi-esPython/blob/main/C%C3%B3pia_de_Untitled17.ipynb\" target=\"_parent\"><img src=\"https://colab.research.google.com/assets/colab-badge.svg\" alt=\"Open In Colab\"/></a>"
      ]
    },
    {
      "cell_type": "code",
      "execution_count": null,
      "metadata": {
        "id": "XYttxCaBrLnw"
      },
      "outputs": [],
      "source": [
        "#ESTRUTURA DE REPETIÇÃO CURSO EM VIDEO -----------> GUANABARA "
      ]
    },
    {
      "cell_type": "code",
      "source": [
        "#036 ESCREVA UM PROGRAMA PARA APROVAR EMPRÉSTIMO BANCÁRIO PARA A COMPRA DE UMA CASA.\n",
        "#O PROGRAMA VAI PERGUNTAR O VALOR DA CASA, O SALÁRIO DO COMPRADOR E EM QUANTOS ANOS ELE VAI PAGAR.\n",
        "\n",
        "#CALCULE O VALOR DA PRESTAÇÃO MENSAL SABENDO QUE ELA NÃO PODE EXCEDER 30% DO SALÁRIO OU ENTÃO O EMPRÉSTIMO SERÁ NEGADO.\n",
        "\n",
        "valor_casa = float(input(\"Qual o valor da casa: R$ \"))\n",
        "salario_comprador = float(input(\"Qual o seu salário: R$ \"))\n",
        "anos_prestacao = int(input(\"Em quantos anos que deseja pagar o financiamento? \"))\n",
        "prestacao = anos_prestacao * 12\n",
        "mensalidade = valor_casa / prestacao\n",
        "\n",
        "if mensalidade > salario_comprador * 0.30:\n",
        "  print(\"Compra negada, valor da prestação muito alta R${:.2f}\".format(mensalidade))\n",
        "\n",
        "else:\n",
        "  print(\"Compra aprovada, salário compativel R${:.2F}\".format(mensalidade))\n"
      ],
      "metadata": {
        "id": "yYrt_bJzSuC5",
        "colab": {
          "base_uri": "https://localhost:8080/"
        },
        "outputId": "f99dc959-9f11-4de3-ec8a-96ea5227d407"
      },
      "execution_count": 159,
      "outputs": [
        {
          "output_type": "stream",
          "name": "stdout",
          "text": [
            "Qual o valor da casa: R$ 139900\n",
            "Qual o seu salário: R$ 8900\n",
            "Em quantos anos que deseja pagar o financiamento? 5\n",
            "Compra aprovada, salário compativel R$2331.67\n"
          ]
        }
      ]
    },
    {
      "cell_type": "code",
      "source": [
        "#037  ESCREVA UM PROGRAMA QUE LEIA UM NUMERO INTEIRO QUALQUER E PEÇA PARA O USUÁRIO ESCOLHER QUAL SERÁ BASE DE CONVERSÃO:\n",
        "\n",
        "# 1 PARA BINÁRIO\n",
        "# 2 PARA OCTAL\n",
        "# 3 PARA HEXADECIMAL \n",
        " \n",
        "num = int(input(\"Digite um numero inteiro: \"))\n",
        "print('''Escolha uma das bases para conversão: \n",
        "[1] converter para BINÁRIO\n",
        "[2] converter para OCTAL\n",
        "[3] converter para HEXADEXIMAL''')\n",
        "opcao = int(input(\"Sua opção: \"))\n",
        "\n",
        "if opcao == 1:\n",
        "  print(\"{} convertido para BINÁRIO é igual a {}\".format(num, bin(num)[2:]))\n",
        "elif opcao == 2:\n",
        "  print(\"{} convertido para OCTAL é igual a {}\".format(num, oct(num)[2:]))\n",
        "elif opcao == 3:\n",
        "  print(\"{} convertido para HEXADECIMAL é igual a {}\".format(num, hex(num)[2:]))\n",
        "else:\n",
        "  print(\"Opção inválida, tente novamente!\")\n"
      ],
      "metadata": {
        "id": "ECYQ3I7pUFp0"
      },
      "execution_count": null,
      "outputs": []
    },
    {
      "cell_type": "code",
      "source": [
        "#038 ESCREVA UM PROGRAMA QUE LEIA DOIS NUMEROS INTEIROS E COMPARE-OS, MOSTRANDO NA TELA:\n",
        "# O PRIMEIRO VALOR É MAIOR\n",
        "# O SEGUNDO VALOR É MAIOR\n",
        "# NÃO EXISTE VALOR MAIOR, OS DOIS SÃO IGUAIS\n",
        "\n",
        "number1 = int(input(\"Digite o primeiro numero: \"))\n",
        "number2 = int(input(\"Digite o segundo numero: \"))\n",
        "if number1 > number2:\n",
        "  print(\"O primeiro numero é maior\")\n",
        "elif number2 > number1:\n",
        "  print(\"O segundo numero é maior\")\n",
        "else:\n",
        "  print(\"Ambos são iguais, não há maioridade\")"
      ],
      "metadata": {
        "id": "tMtZjwOzbjbE"
      },
      "execution_count": null,
      "outputs": []
    },
    {
      "cell_type": "code",
      "source": [
        "#039 FAÇA UM PROGRAMA QUE LEIA O ANO DE NASCIMENTO DE UM JOVEM E INFORME, DE ACORDO COM SUA IDADE: \n",
        "#SE ELE AINDA VAI SE ALISTAR AO SERVIÇO MILITAR\n",
        "#SE É A HORA DE SE ALISTAR \n",
        "#SE JÁ PASSOU DO TEMPO DO ALISTAMENTO.\n",
        "\n",
        "#SEU PROGRAMA TAMBÉM DEVERÁ MOSTRAR O TEMPO QUE FALTA OU QUE PASSOU DO PRAZO.\n",
        "\n",
        "from datetime import date\n",
        "\n",
        "ano_nascimento = int(input(\"Digite o ano em que vc nasceu: \"))\n",
        "ano_atual = date.today().year\n",
        "idade = ano_atual - ano_nascimento\n",
        "print(\"Quem nasceu em {} tem {} anos em {}.\".format(ano_nascimento, idade, ano_atual))\n",
        "if idade == 18:\n",
        "  print(\"Está na hora de se alistar\")\n",
        "elif idade < 18:\n",
        "  saldo = 18 - idade\n",
        "  print(\"Ainda faltam {} anos para o alistamento.\".format(saldo))\n",
        "  ano = ano_atual + saldo\n",
        "  print(\"Seu alistamento será em {}\".format(ano))\n",
        "elif idade > 18:\n",
        "  saldo = idade - 18\n",
        "  print(\"Você deveria ter se alistado há {} anos\".format(saldo))\n",
        "  ano = ano_atual - saldo\n",
        "  print(\"Seu alistamento foi em {}\".format(ano))\n",
        "\n",
        "\n"
      ],
      "metadata": {
        "id": "0qkZbMrmcN_H",
        "colab": {
          "base_uri": "https://localhost:8080/"
        },
        "outputId": "e0b6b18f-0e99-4f8a-a239-a29e9eac7b43"
      },
      "execution_count": 140,
      "outputs": [
        {
          "output_type": "stream",
          "name": "stdout",
          "text": [
            "Digite o ano em que vc nasceu: 2010\n",
            "Quem nasceu em 2010 tem 13 anos em 2023.\n",
            "Ainda faltam 5 anos para o alistamento.\n",
            "Seu alistamento será em 2028\n"
          ]
        }
      ]
    },
    {
      "cell_type": "code",
      "source": [
        "#40 CRIE UM PROGRAMA QUE LEIA DUAS NOTAS DE UM ALUNO E CALCULE SUA MÉDIA, MOSTRANDO UMA MENSAGEM NO FINAL, DE ACORDO COM A MÉDIA ATINGIDA\n",
        "#MÉDIA ABAIXO DE 5.0 = REPROVADO\n",
        "#MÉDIA ENTRE 5.0 E 6.9 = RECUPERAÇÃO\n",
        "#MÉDIA 7 OU SUPERIOR = APROVADO\n",
        "\n",
        "nota1 = float(input(\"Digite a primeira nota: \"))\n",
        "nota2 = float(input(\"Digite a segunda nota: \"))\n",
        "media = (nota1 + nota2) / 2\n",
        "if media < 5:\n",
        "  print(\"REPROVADO, sua média foi de {:.1F}\".format(media))\n",
        "elif media > 5 and media <= 6.9:\n",
        "  print(\"RECUPERAÇÃO, sua média foi de {:.1F}\".format(media))\n",
        "else:\n",
        "  print(\"APROVADO, a média é de {:.1F}\".format(media))\n",
        "\n"
      ],
      "metadata": {
        "id": "H2J7QZ7fc2qd"
      },
      "execution_count": null,
      "outputs": []
    },
    {
      "cell_type": "code",
      "source": [
        "#041 A CONFEDERAÇÃO NACIONAL DE NATAÇÃO PRECISA DE UM PROGRAMA QUE LEIAM ANO DE NASCIMENTO\n",
        "# DE UM ATLETA E MOSTRE SUA CATEGORIA. DE ACORDO COM A IDADE:\n",
        "#ATÉ 9 ANOS: MIRIm\n",
        "#ATÉ 14 ANOS: INFANTIL\n",
        "#ATÉ 19 ANOS: JÚNIOR\n",
        "#ATÉ 20 ANOS: SÊNIOR\n",
        "#ACIMA: MASTER\n",
        "\n",
        "from datetime import date \n",
        "ano_nascimento = int(input(\"Digite o ano de nascimento: \"))\n",
        "ano_atual = date.today().year\n",
        "idade = ano_atual - ano_nascimento\n",
        "print(\"O atleta tem {} anos\".format(idade))\n",
        "if idade <= 9:\n",
        "  print(\"Categoria Mirim!\")\n",
        "elif idade <= 14:\n",
        "  print(\"Categoria Infantil!\")\n",
        "elif idade <= 19 :\n",
        "  print(\"Categoria Junior\")\n",
        "elif idade == 20:\n",
        "  print(\"Categoria Sênior\")\n",
        "else:\n",
        "  print(\"Categoria Master\")\n"
      ],
      "metadata": {
        "id": "stvIFacKdkKc"
      },
      "execution_count": null,
      "outputs": []
    },
    {
      "cell_type": "code",
      "source": [
        "#042 REFAÇA O DESAFIO 035 DOS TRIÂGULOS ACRESCENTANDO O RECURSO DE MOSTRAR QUE TIPO DE TRIÂNGULO SERÁ FORMADO:\n",
        "#EQUILÁTERO: TODOS OS LADOS IGUAIS\n",
        "#ISÓSCELES: DOIS LADOS IGUAIS\n",
        "#ESCALENO: TODOS OS LADOS DIFERENTES\n",
        "\n",
        "r1 = float(input(\"Primeiro segmento: \"))\n",
        "r2 = float(input(\"Segundo segmento: \"))\n",
        "r3 = float(input(\"Terceiro segmento: \"))\n",
        "\n",
        "if r1 < r2 + r3 and r2 < r1 + r3 and r3 < r1 + r2:\n",
        "  print(\"Os segmentos acima PODEM formar um triângulo: \", end=\"\")\n",
        "  if r1 == r2 == r3:\n",
        "    print(\"EQUILÁTERO!\")\n",
        "  elif r1 != r2 != r3 != r1:\n",
        "    print(\"ESCALENO!\")\n",
        "  else:\n",
        "    print(\"ISÓSCELES\")\n",
        "else:\n",
        "  print(\"Os segmentos acima NÃO PODEM FORMAR triângulo\")  "
      ],
      "metadata": {
        "id": "uChGkaRweJqY"
      },
      "execution_count": null,
      "outputs": []
    },
    {
      "cell_type": "code",
      "source": [
        "#043 DESENVOLVA UMA LÓGICA QUE LEIA O PESO E ALTURA DE UMA PESSOA, CALCULE O IMC E MOSTRE SEU STATUS, DE ACORDO COM A TABELA:\n",
        "#ABAIXO DE 18.5: ABAIXO DO PESO\n",
        "#ENTRE 18.5 E 25: PESO IDEAL\n",
        "#25 ATÉ 30: SOBREPESO\n",
        "#30 ATÉ 40: OBESIDADE\n",
        "#ACIMA DE 40: OBESIDADE MÓRBIDA\n",
        "\n",
        "import math\n",
        "peso = float(input(\"Digite seu peso: (Kg) \"))\n",
        "altura = float(input(\"Digite sua altura: (m) \"))\n",
        "imc = peso / (altura**2)\n",
        "\n",
        "if imc < 18.5:\n",
        "  print(\"Você está abaixo do peso, seu imc é: {:.1f}\".format(imc))\n",
        "elif imc >= 18.5 and imc <25:\n",
        "  print(\"Seu imc é normal: {:.1f}\".format(imc))\n",
        "elif imc >= 25 and imc < 30:\n",
        "  print(\"Sobrepeso, imc de: {:.1f}\".format(imc))\n",
        "elif imc >=30 and imc < 40:\n",
        "  print(\"Obesidade, imc de: {:.1f}\".format(imc))\n",
        "else:\n",
        "  print(\"Obesidade mórbida, imc de: {:.1f}\".format(imc))"
      ],
      "metadata": {
        "id": "wrBGOEGee6gv"
      },
      "execution_count": null,
      "outputs": []
    },
    {
      "cell_type": "code",
      "source": [
        "#044 ELABORE UM PROGRAMA QUE CALCULE O VALOR A SER PAGO POR PRODUTO, CONSIDERANDO O SEU PREÇO NORMAL E CONDIÇÃO DE PAGAMENTO\n",
        "#À VISTA DINHEIRO/PIX: DESCONTO 10%\n",
        "#À VISTA NO CARTÃO: DESCONTO 5%\n",
        "#EM ATÉ 2X NO CARTÃO: PREÇO NORMAL\n",
        "#3X OU MAIS NO CARTÃO: 20% DE JUROS\n",
        "\n",
        "valor_pago = float(input(\"Digite o valor a ser pago: \"))\n",
        "#qtd_produto = int(input(\"Digite qtde produto: \"))\n",
        "forma_pgto = str(input(\"Forma de pgto: \"))\n",
        "\n",
        "if forma_pgto == \"pix\" or \"dinheiro\":\n",
        "  if forma_pgto == \"pix\":\n",
        "      pgto = valor_pago - valor_pago * (10/100)\n",
        "      print(\"Valor a ser pago: R${:.2F}\".format(pgto))\n",
        "  if forma_pgto == \"dinheiro\":\n",
        "      pgto = valor_pago - valor_pago * (10/100)\n",
        "      print(\"Valor a ser pago: R${:.2F}\".format(pgto))\n",
        "elif forma_pgto == \"cartao\":\n",
        "  pgto2 = valor_pago - valor_pago * (5/100)\n",
        "  print(\"Valor a ser pago: R${:.2F}\".format(pgto2))\n",
        "elif forma_pgto == \"2x\":\n",
        "  pgto3 = valor_pago\n",
        "  print(\"Valor a ser pago: R${:.2F}\".format(pgto3))\n",
        "# else:\n",
        "#   pgto4 = valor_pago + valor_pago * (20/100)\n",
        "#   print(\"Valor a ser pago: R${:.2F}\".format(pgto4))"
      ],
      "metadata": {
        "id": "4YhfSXCRfjT7"
      },
      "execution_count": null,
      "outputs": []
    },
    {
      "cell_type": "code",
      "source": [
        "#CONTINUAÇÃO EXERCÍCIO 044\n",
        "\n",
        "valor_pago = float(input(\"Digite o valor a ser pago: \"))\n",
        "forma_pgto = str(input(\"Forma de pgto: \"))\n",
        "\n",
        "if forma_pgto == \"pix\" or forma_pgto == \"dinheiro\":\n",
        "  pgto = valor_pago - valor_pago * (10/100)\n",
        "  print(\"Valor a ser pago: R${:.2F}\".format(pgto))\n",
        "elif forma_pgto == \"cartao\":\n",
        "  pgto2 = valor_pago - valor_pago * (5/100)\n",
        "  print(\"Valor a ser pago: R${:.2F}\".format(pgto2))\n",
        "elif forma_pgto == \"2x\":\n",
        "  pgto3 = valor_pago\n",
        "  print(\"Valor a ser pago: R${:.2F}\".format(pgto3))\n",
        "else:\n",
        "  pgto4 = valor_pago + valor_pago * (20/100)\n",
        "  print(\"Valor a ser pago: R${:.2F}\".format(pgto4))\n",
        "\n"
      ],
      "metadata": {
        "id": "a2MpAIBKcsti"
      },
      "execution_count": null,
      "outputs": []
    },
    {
      "cell_type": "code",
      "source": [
        "valor_pago = float(input(\"Digite o valor a ser pago: \"))\n",
        "forma_pgto = str(input(\"Escolha forma de pgto [Pix, Dinheiro, Cartão, 2x ou mais 3x. \\nAcima de 3x, será cobrado 20% de juros]: \"))\n",
        "if forma_pgto == \"pix\" or forma_pgto == \"dinheiro\":\n",
        "  pgto = valor_pago - valor_pago * (10/100)\n",
        "elif forma_pgto == \"cartao\":\n",
        "  pgto = valor_pago - valor_pago * (5/100)\n",
        "elif forma_pgto == \"2x\":\n",
        "  pgto = valor_pago\n",
        "else:\n",
        "  pgto = valor_pago + valor_pago * (20/100)\n",
        "\n",
        "print(\"Valor a ser pago: R${:.2F}\".format(pgto))"
      ],
      "metadata": {
        "id": "MQoT1U5Hnznn"
      },
      "execution_count": null,
      "outputs": []
    },
    {
      "cell_type": "code",
      "source": [
        "#45 CRIE UM PROGRAMA QUE FAÇA O COMPUTADOR JOGAR JOKENPÔ COM USUÁRIO  \n",
        "from random import randint\n",
        "from time import sleep\n",
        "itens = ('Pedra', 'Papel', 'Tesoura')\n",
        "computador = randint(0, 2)\n",
        "print('''Suas opções:\n",
        "[0] PEDRA\n",
        "[1] PAPEL\n",
        "[2] TESOURA''')\n",
        "jogador = int(input(\"Qual a sua jogada? \"))\n",
        "print('JO')\n",
        "sleep(1)\n",
        "print('KEN')\n",
        "sleep(1)\n",
        "print('PO!!! ')\n",
        "print('-=' * 11)\n",
        "print(\"Computador jogou {}\".format(itens[computador]))\n",
        "print(\"Jogado jogou {}\".format(itens[jogador]))\n",
        "print('-=' * 11)\n",
        "\n",
        "if computador == 0:\n",
        "  if jogador == 0:\n",
        "    print(\"EMPATE!\")\n",
        "  elif jogador == 1:\n",
        "    print(\"JOGADOR VENCE!\")\n",
        "  elif jogador == 2:\n",
        "    print(\"JOGADOR VENCE!\")\n",
        "  else:\n",
        "    print(\"JOGADA INVÁLIDA!\")\n",
        "  \n",
        "elif computador == 1:\n",
        "  if jogador == 0:\n",
        "    print(\"COMPUTADOR VENCE!\")\n",
        "  elif jogador == 1:\n",
        "    print(\"EMPATE!\")\n",
        "  elif jogador == 2: \n",
        "    print(\"JOGADOR VENCE!\")\n",
        "  else:\n",
        "    print(\"JOGADA INVÁLIDA!\")\n",
        " \n",
        "elif computador == 2:\n",
        "  if jogador == 0:\n",
        "    PRINT(\"JOGADOR VENCE!\")\n",
        "  elif jogador == 1:\n",
        "    print(\"COMPUTADOR VENCE!\")\n",
        "  elif jogador == 2:\n",
        "    print(\"EMPATE!\") \n",
        "  else:\n",
        "    print(\"JOGADA INVÁLIDA!\")\n",
        "  "
      ],
      "metadata": {
        "id": "KmgjbPXzgWjx"
      },
      "execution_count": null,
      "outputs": []
    }
  ]
}