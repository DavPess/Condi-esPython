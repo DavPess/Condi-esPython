{
  "nbformat": 4,
  "nbformat_minor": 0,
  "metadata": {
    "colab": {
      "provenance": [],
      "authorship_tag": "ABX9TyP5cNVUVUnomCqugZ/lDj69",
      "include_colab_link": true
    },
    "kernelspec": {
      "name": "python3",
      "display_name": "Python 3"
    },
    "language_info": {
      "name": "python"
    }
  },
  "cells": [
    {
      "cell_type": "markdown",
      "metadata": {
        "id": "view-in-github",
        "colab_type": "text"
      },
      "source": [
        "<a href=\"https://colab.research.google.com/github/DavPess/Condi-esPython/blob/main/Condi%C3%A7%C3%B5es.ipynb\" target=\"_parent\"><img src=\"https://colab.research.google.com/assets/colab-badge.svg\" alt=\"Open In Colab\"/></a>"
      ]
    },
    {
      "cell_type": "code",
      "execution_count": null,
      "metadata": {
        "id": "wpJFF1hcXYd3"
      },
      "outputs": [],
      "source": [
        "#Condições IF ELSE\n",
        "\n",
        " tempo = int(input(\"Quanto anos tem seu carro? \"))\n",
        "if tempo <=3:\n",
        "  print('Carro novo')\n",
        "else: \n",
        "  print('Carro velho')  \n"
      ]
    },
    {
      "cell_type": "code",
      "source": [
        "#Outra forma de usar o IF ELSE\n",
        "\n",
        "tempo = int(input(\"Quantos anos tem seu carro? \"))\n",
        "print(\"Carro novo\"if tempo <=3 else \"Carro velho\")\n",
        "print(\"---FIM---\")\n"
      ],
      "metadata": {
        "id": "gOSBaJY7fa80"
      },
      "execution_count": null,
      "outputs": []
    },
    {
      "cell_type": "code",
      "source": [
        "# EXEMPLOS DE COMO UTILIZAR O IF ELSE\n",
        "n1 = float(input('Digite a primeira nota: '))\n",
        "n2 = float(input(\"Digite a segunda nota: \"))\n",
        "m = (n1 + n2) / 2\n",
        "print(\"Sua média foi de {:.1f}\".format(m))\n",
        "if m>= 6.0:\n",
        "  print(\"Sua média foi boa! PARABÉNS!\")\n",
        "else:\n",
        "  print(\"Sua média foi ruim! ESTUDE MAIS!\")  \n",
        "  "
      ],
      "metadata": {
        "id": "BBCBu9PGgtsn"
      },
      "execution_count": null,
      "outputs": []
    },
    {
      "cell_type": "code",
      "source": [
        "# #028 Escreva um programa que faça o computador \"pensar\" em um numero inteiro entre 0 e 5 e peça para o usuário tentar descobrir qual foi o numero escolhido\n",
        "# pelo computador.\n",
        "# O programa deverá escrever na tela se o usuário venceu ou perdeu.\n",
        "\n",
        "import random\n",
        "numero = int(input(\"Digite um numero entre 0 e 5: \"))\n",
        "print(\"O valor escolhido foi: {}\".format(random.choice(numero)))\n",
        "if numero <=5:\n",
        "  print(\"Vc acertou\")\n",
        "else:\n",
        "  print(\"Vc errou\")  \n",
        "\n",
        "\n"
      ],
      "metadata": {
        "id": "6fW5WSJsiCCf"
      },
      "execution_count": null,
      "outputs": []
    },
    {
      "cell_type": "code",
      "source": [
        "#029 Escreva um programa que leia a velocidade de um carro.\n",
        "#Se ele ultrapassar 88km/h, mostre uma mensagem dizendo que ele foi multado. A multa vai custar R$ 7,00 por cada km acima do limite.\n",
        "v = int(input(\"Digite a velocidade: \"))\n",
        "kmh = v/3.6\n",
        "print(\"Sua velocidade é de {} Km/h\".format(v))\n",
        "if v>=80:\n",
        "  print(\"Está acima da velocidade. O valor da multa será cobrado R${:.2f}\".format(kmh*7.00))\n",
        "else:\n",
        "  print(\"No limite da via\")\n"
      ],
      "metadata": {
        "colab": {
          "base_uri": "https://localhost:8080/"
        },
        "id": "lx0EMAlTnOI2",
        "outputId": "8b51d09f-7dbf-41c4-c5fc-b3277e310dda"
      },
      "execution_count": 43,
      "outputs": [
        {
          "output_type": "stream",
          "name": "stdout",
          "text": [
            "Digite a velocidade: 200\n",
            "Sua velocidade é de 200 Km/h\n",
            "Está acima da velocidade. O valor da multa será cobrado R$388.89\n"
          ]
        }
      ]
    },
    {
      "cell_type": "code",
      "source": [
        "#030 Crie um programa que leia um número inteiro e mostre se ele é PAR ou ÍMPAR.\n",
        "valor = int(input(\"Digite o valor: \"))\n",
        "if(valor%2)==0:\n",
        "  print(\"É par\")\n",
        "else:  \n",
        "  print(\"É ímpar\")"
      ],
      "metadata": {
        "colab": {
          "base_uri": "https://localhost:8080/"
        },
        "id": "2547YF4erc8C",
        "outputId": "70aa1f4d-5c67-4d0a-dcd3-2948670c97a2"
      },
      "execution_count": 56,
      "outputs": [
        {
          "output_type": "stream",
          "name": "stdout",
          "text": [
            "Digite o valor: 3\n",
            "É ímpar\n"
          ]
        }
      ]
    },
    {
      "cell_type": "code",
      "source": [
        "#031 Desenvolva um programa que pergunte a distância de uma viagem em km. Calcule o preço da passagem, cobrando R$0,50 por km para viagens de até 200km\n",
        "# e R$0,45 para viagens mais longas.\n",
        "\n",
        "d = float(input(\"Digite a distância em KM: \"))\n",
        "if d <=200:\n",
        "  print(\"O valor cobrado será de: R${:.2f}\".format(d * 0.50))\n",
        "else:\n",
        "  print(\"Distância acima de 200 KM, valor cobrado será R${:.2f}\". format(d* 0.45))"
      ],
      "metadata": {
        "id": "mjPUIhRptNCm"
      },
      "execution_count": null,
      "outputs": []
    },
    {
      "cell_type": "code",
      "source": [
        "#032 Faça um programa que leia um ano qualquer e mostre se ele é bissexto.\n",
        "\n",
        "ano = int(input(\"Digite algum ano: \"))\n",
        "\n",
        "if (ano%4) == 0:\n",
        "  print(\"O ano é bissexto\")\n",
        "else:\n",
        "  print(\"Não é bissexto\")"
      ],
      "metadata": {
        "id": "te7RCS1uv-0v"
      },
      "execution_count": null,
      "outputs": []
    },
    {
      "cell_type": "code",
      "source": [
        "#033 faça um programa que leia três números e mostre qual é o maior e qual é o menor\n",
        "\n",
        "num = float(input(\"Digite um numero \"))\n",
        "num2 = float(input(\"Digite outro numero: \"))\n",
        "num3 = float(input(\"Digite outro numero: \"))\n",
        "\n"
      ],
      "metadata": {
        "id": "Ck83FTw5xpcM"
      },
      "execution_count": null,
      "outputs": []
    },
    {
      "cell_type": "code",
      "source": [
        "#034 Escreva um programa que leia e pergunte o salário de um funcionário e calcule o valor do seu aumento.\n",
        "#Para salários superiores a R$1.250,00, calcule um aumento de 10%\n",
        "#Para os inferiores ou iguais o aumento é de 15%\n"
      ],
      "metadata": {
        "id": "JcqT3GbUykKv"
      },
      "execution_count": null,
      "outputs": []
    },
    {
      "cell_type": "code",
      "source": [
        "#035 desenvolva um programa que leia o comprimento de tres retas e diga ao usuário se elas podem ou não formar um triangulo."
      ],
      "metadata": {
        "id": "y0rUa9kuz45j"
      },
      "execution_count": null,
      "outputs": []
    }
  ]
}