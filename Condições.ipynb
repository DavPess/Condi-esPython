{
  "nbformat": 4,
  "nbformat_minor": 0,
  "metadata": {
    "colab": {
      "provenance": [],
      "authorship_tag": "ABX9TyO+f4EViPFk8McUxRW2K/4q",
      "include_colab_link": true
    },
    "kernelspec": {
      "name": "python3",
      "display_name": "Python 3"
    },
    "language_info": {
      "name": "python"
    }
  },
  "cells": [
    {
      "cell_type": "markdown",
      "metadata": {
        "id": "view-in-github",
        "colab_type": "text"
      },
      "source": [
        "<a href=\"https://colab.research.google.com/github/DavPess/Condi-esPython/blob/main/Condi%C3%A7%C3%B5es.ipynb\" target=\"_parent\"><img src=\"https://colab.research.google.com/assets/colab-badge.svg\" alt=\"Open In Colab\"/></a>"
      ]
    },
    {
      "cell_type": "code",
      "execution_count": null,
      "metadata": {
        "id": "wpJFF1hcXYd3"
      },
      "outputs": [],
      "source": [
        "#Condições IF ELSE\n",
        "\n",
        " tempo = int(input(\"Quanto anos tem seu carro? \"))\n",
        "if tempo <=3:\n",
        "  print('Carro novo')\n",
        "else: \n",
        "  print('Carro velho')  \n"
      ]
    },
    {
      "cell_type": "code",
      "source": [
        "#Outra forma de usar o IF ELSE\n",
        "\n",
        "tempo = int(input(\"Quantos anos tem seu carro? \"))\n",
        "print(\"Carro novo\"if tempo <=3 else \"Carro velho\")\n",
        "print(\"---FIM---\")\n"
      ],
      "metadata": {
        "id": "gOSBaJY7fa80"
      },
      "execution_count": null,
      "outputs": []
    },
    {
      "cell_type": "code",
      "source": [
        "# EXEMPLOS DE COMO UTILIZAR O IF ELSE\n",
        "n1 = float(input('Digite a primeira nota: '))\n",
        "n2 = float(input(\"Digite a segunda nota: \"))\n",
        "m = (n1 + n2) / 2\n",
        "print(\"Sua média foi de {:.1f}\".format(m))\n",
        "if m>= 6.0:\n",
        "  print(\"Sua média foi boa! PARABÉNS!\")\n",
        "else:\n",
        "  print(\"Sua média foi ruim! ESTUDE MAIS!\")  \n",
        "  "
      ],
      "metadata": {
        "id": "BBCBu9PGgtsn"
      },
      "execution_count": null,
      "outputs": []
    },
    {
      "cell_type": "code",
      "source": [
        "# #028 Escreva um programa que faça o computador \"pensar\" em um numero inteiro entre 0 e 5 e peça para o usuário tentar descobrir qual foi o numero escolhido\n",
        "# pelo computador.\n",
        "# O programa deverá escrever na tela se o usuário venceu ou perdeu.\n",
        "from random import randint\n",
        "computador = randint(0, 5) #Faz o computador \"PENSAR\"\n",
        "print('----'*20)\n",
        "print(\"Vou pensar em um número de 0 e 5. Tente adivinhar...\")\n",
        "print(\"----\"*20)\n",
        "jogador = int(input(\"Que numero eu pensei? \")) #Faz jogador adivinhar\n",
        "if jogador == computador:\n",
        "  print(\"PARABÉNS! Vc ganhou! \")\n",
        "else:\n",
        "  print(\"Vc perdeu!\" )\n",
        "\n"
      ],
      "metadata": {
        "id": "6fW5WSJsiCCf"
      },
      "execution_count": null,
      "outputs": []
    },
    {
      "cell_type": "code",
      "source": [
        "#029 Escreva um programa que leia a velocidade de um carro.\n",
        "#Se ele ultrapassar 88km/h, mostre uma mensagem dizendo que ele foi multado. A multa vai custar R$ 7,00 por cada km acima do limite.\n",
        "v = float(input(\"Digite a velocidade: \"))\n",
        "kmh = (v-80)/3.6\n",
        "if v>80:\n",
        "  print(\"MULTADO! Você está acima da velocidade. você deve pagar uma multa de R${:.2f}\".format(kmh*7.00))\n",
        "else:\n",
        "  print(\"Olá! Dirija com segurança! \")\n"
      ],
      "metadata": {
        "id": "lx0EMAlTnOI2"
      },
      "execution_count": null,
      "outputs": []
    },
    {
      "cell_type": "code",
      "source": [
        "#030 Crie um programa que leia um número inteiro e mostre se ele é PAR ou ÍMPAR.\n",
        "valor = int(input(\"Digite o valor: \"))\n",
        "if(valor%2)==0:\n",
        "  print(\"É par\")\n",
        "else:  \n",
        "  print(\"É ímpar\")"
      ],
      "metadata": {
        "colab": {
          "base_uri": "https://localhost:8080/"
        },
        "id": "2547YF4erc8C",
        "outputId": "d2224fc3-0d13-4452-d484-bf77ddce68f9"
      },
      "execution_count": null,
      "outputs": [
        {
          "output_type": "stream",
          "name": "stdout",
          "text": [
            "Digite o valor: 1500\n",
            "É par\n"
          ]
        }
      ]
    },
    {
      "cell_type": "code",
      "source": [
        "#031 Desenvolva um programa que pergunte a distância de uma viagem em km. Calcule o preço da passagem, cobrando R$0,50 por km para viagens de até 200km\n",
        "#  e R$0,45 para viagens mais longas.\n",
        "\n",
        "d = float(input(\"Digite a distância em KM: \"))\n",
        "if d <=200:\n",
        "  print(\"O valor cobrado será de: R${:.2f}\".format(d * 0.50))\n",
        "else:\n",
        "  print(\"Distância acima de 200 KM, valor cobrado será R${:.2f}\". format(d* 0.45))"
      ],
      "metadata": {
        "id": "mjPUIhRptNCm"
      },
      "execution_count": null,
      "outputs": []
    },
    {
      "cell_type": "code",
      "source": [
        "#032 Faça um programa que leia um ano qualquer e mostre se ele é bissexto.\n",
        "from datetime import date\n",
        "\n",
        "ano = int(input(\"Que ano quer analisar? Coloque 0 para analisar o ano atual: \"))\n",
        "if ano == 0:\n",
        "  ano = date.today().year\n",
        "if ano%4 == 0 and ano %100 !=0 or ano % 400 ==0 :\n",
        "  print(\"O ano {} é bissexto\".format(ano))\n",
        "else:\n",
        "  print(\"O ano {} não é bissexto\".format(ano))"
      ],
      "metadata": {
        "id": "te7RCS1uv-0v",
        "colab": {
          "base_uri": "https://localhost:8080/"
        },
        "outputId": "529f399c-216d-49c6-f7a7-c3b90542a0bd"
      },
      "execution_count": null,
      "outputs": [
        {
          "output_type": "stream",
          "name": "stdout",
          "text": [
            "Que ano quer analisar? Coloque 0 para analisar o ano atual: 0\n",
            "O ano 2023 não é bissexto\n"
          ]
        }
      ]
    },
    {
      "cell_type": "code",
      "source": [
        "#033 faça um programa que leia três números e mostre qual é o maior e qual é o menor\n",
        "\n",
        "primeiro = int(input(\"Digite o primeiro numero \"))\n",
        "segundo = int(input(\"Digite o segundo numero: \"))\n",
        "terceiro = int(input(\"Digite o terceiro numero: \"))\n",
        "\n",
        "if (segundo > primeiro):\n",
        "  maior = segundo\n",
        "if (terceiro > maior):\n",
        "  maior = terceiro \n",
        "print(\"Maior: \", maior)\n",
        "\n",
        "if (segundo < primeiro):\n",
        "  menor = segundo\n",
        "if (terceiro < menor): \n",
        "  menor = terceiro\n",
        "print(\"Menor: \", menor)\n"
      ],
      "metadata": {
        "id": "Ck83FTw5xpcM"
      },
      "execution_count": null,
      "outputs": []
    },
    {
      "cell_type": "code",
      "source": [
        " #034 Escreva um programa que leia e pergunte o salário de um funcionário e calcule o valor do seu aumento.\n",
        "#Para salários superiores a R$1.250,00, calcule um aumento de 10%\n",
        "#Para os inferiores ou iguais o aumento é de 15%\n",
        "salario = float(input(\"Digite seu salário atual: \"))\n",
        "sal10 = salario*(10/100) + salario\n",
        "sal15 = salario*(15/100) + salario\n",
        "if (salario >=1250): \n",
        "  print(\"Seu salário será: R${:.2f}\".format(sal10))\n",
        "else:\n",
        "  print(\"Seu salário será: R${:.2f}\".format(sal15))"
      ],
      "metadata": {
        "id": "JcqT3GbUykKv"
      },
      "execution_count": null,
      "outputs": []
    },
    {
      "cell_type": "code",
      "source": [
        "# Outra forma de calcular a porcentagem EXERCÍCIO 034\n",
        "salario = float(input(\"Digite seu salário atual: \"))\n",
        "if (salario >=1250):\n",
        "  resultado = (salario*10)/100 + (salario)\n",
        "else:\n",
        "  resultado = salario*(15/100)+salario\n",
        "print(\"Seu salário será de R${:.2f}\".format(resultado))\n",
        "\n"
      ],
      "metadata": {
        "id": "X9qxiTw_wrh3"
      },
      "execution_count": null,
      "outputs": []
    },
    {
      "cell_type": "code",
      "source": [
        "#035 desenvolva um programa que leia o comprimento de tres retas e diga ao usuário se elas podem ou não formar um triangulo.\n",
        "import math\n",
        "reta1 = float(input(\"Digite o primeiro valor: \"))\n",
        "reta2 = float(input(\"Digite o segundo valor: \"))\n",
        "reta3 = float(input(\"Digite o terceiro valor: \"))\n",
        "\n",
        "if reta1 < reta2 + reta3 and reta2 < reta1 + reta3 and reta3 < reta1 + reta2: \n",
        "  print(\"O segmentos acima PODEM FORMAR um triângulo\")\n",
        "else:\n",
        "  print(\"Os segmentos acima Não PODEM FORMAR um triangulo\")"
      ],
      "metadata": {
        "id": "y0rUa9kuz45j"
      },
      "execution_count": null,
      "outputs": []
    }
  ]
}